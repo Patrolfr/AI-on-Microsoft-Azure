{
  "cells": [
    {
      "cell_type": "markdown",
      "source": [
        "## Prediction of sales in Europe Video Games market.\n",
        "As Cyberpunk 2077 thought us the stock value of Video Game market is strictly dependent on number of sales.  \n",
        "This experiment helps yo to predict number of sales to lower the risk of stock investements.  \n"
      ],
      "metadata": {
        "nteract": {
          "transient": {
            "deleting": false
          }
        }
      }
    },
    {
      "cell_type": "markdown",
      "source": [
        "### Configure azureml sdk. \n",
        "Config should be autoimported from Notebook context.  \n",
        "If you encounter problems try to download json config from your Directories menu and place it next to Notebook in config.json file."
      ],
      "metadata": {
        "nteract": {
          "transient": {
            "deleting": false
          }
        }
      }
    },
    {
      "cell_type": "code",
      "source": [
        "import azureml.core\n",
        "\n",
        "print(\"SDK version:\", azureml.core.VERSION)"
      ],
      "outputs": [
        {
          "output_type": "stream",
          "name": "stdout",
          "text": [
            "SDK version: 1.20.0\n"
          ]
        }
      ],
      "execution_count": 1,
      "metadata": {
        "gather": {
          "logged": 1612177978913
        },
        "jupyter": {
          "outputs_hidden": false
        }
      }
    },
    {
      "cell_type": "code",
      "source": [
        "from azureml.core import Workspace, Dataset\n",
        "\n",
        "ws = Workspace.from_config()"
      ],
      "outputs": [],
      "execution_count": 2,
      "metadata": {
        "collapsed": true,
        "jupyter": {
          "source_hidden": false,
          "outputs_hidden": false
        },
        "nteract": {
          "transient": {
            "deleting": false
          }
        },
        "gather": {
          "logged": 1612177981597
        }
      }
    },
    {
      "cell_type": "markdown",
      "source": [
        "### Import and visualize dataset\n",
        "Download sample dataset for video games sales.  \n",
        "Sample could be found at https://www.kaggle.com/pranavkrishna/vgsales.  \n",
        "Name dataset as 'games-sales'"
      ],
      "metadata": {
        "nteract": {
          "transient": {
            "deleting": false
          }
        }
      }
    },
    {
      "cell_type": "code",
      "source": [
        "aml_dataset = ws.datasets['games-sales']\n",
        "\n",
        "# Use Pandas DataFrame just to sneak peak some data and schema\n",
        "full_df = aml_dataset.to_pandas_dataframe()\n",
        "# .to_pandas_dataframe().dropna()\n",
        "full_df.head(5)"
      ],
      "outputs": [
        {
          "output_type": "execute_result",
          "execution_count": 3,
          "data": {
            "text/plain": "   Rank                      Name Platform  Year         Genre Publisher  \\\n0     1                Wii Sports      Wii  2006        Sports  Nintendo   \n1     2         Super Mario Bros.      NES  1985      Platform  Nintendo   \n2     3            Mario Kart Wii      Wii  2008        Racing  Nintendo   \n3     4         Wii Sports Resort      Wii  2009        Sports  Nintendo   \n4     5  Pokemon Red/Pokemon Blue       GB  1996  Role-Playing  Nintendo   \n\n   NA_Sales  EU_Sales  JP_Sales  Other_Sales  Global_Sales  \n0     41.49     29.02      3.77         8.46         82.74  \n1     29.08      3.58      6.81         0.77         40.24  \n2     15.85     12.88      3.79         3.31         35.82  \n3     15.75     11.01      3.28         2.96         33.00  \n4     11.27      8.89     10.22         1.00         31.37  ",
            "text/html": "<div>\n<style scoped>\n    .dataframe tbody tr th:only-of-type {\n        vertical-align: middle;\n    }\n\n    .dataframe tbody tr th {\n        vertical-align: top;\n    }\n\n    .dataframe thead th {\n        text-align: right;\n    }\n</style>\n<table border=\"1\" class=\"dataframe\">\n  <thead>\n    <tr style=\"text-align: right;\">\n      <th></th>\n      <th>Rank</th>\n      <th>Name</th>\n      <th>Platform</th>\n      <th>Year</th>\n      <th>Genre</th>\n      <th>Publisher</th>\n      <th>NA_Sales</th>\n      <th>EU_Sales</th>\n      <th>JP_Sales</th>\n      <th>Other_Sales</th>\n      <th>Global_Sales</th>\n    </tr>\n  </thead>\n  <tbody>\n    <tr>\n      <th>0</th>\n      <td>1</td>\n      <td>Wii Sports</td>\n      <td>Wii</td>\n      <td>2006</td>\n      <td>Sports</td>\n      <td>Nintendo</td>\n      <td>41.49</td>\n      <td>29.02</td>\n      <td>3.77</td>\n      <td>8.46</td>\n      <td>82.74</td>\n    </tr>\n    <tr>\n      <th>1</th>\n      <td>2</td>\n      <td>Super Mario Bros.</td>\n      <td>NES</td>\n      <td>1985</td>\n      <td>Platform</td>\n      <td>Nintendo</td>\n      <td>29.08</td>\n      <td>3.58</td>\n      <td>6.81</td>\n      <td>0.77</td>\n      <td>40.24</td>\n    </tr>\n    <tr>\n      <th>2</th>\n      <td>3</td>\n      <td>Mario Kart Wii</td>\n      <td>Wii</td>\n      <td>2008</td>\n      <td>Racing</td>\n      <td>Nintendo</td>\n      <td>15.85</td>\n      <td>12.88</td>\n      <td>3.79</td>\n      <td>3.31</td>\n      <td>35.82</td>\n    </tr>\n    <tr>\n      <th>3</th>\n      <td>4</td>\n      <td>Wii Sports Resort</td>\n      <td>Wii</td>\n      <td>2009</td>\n      <td>Sports</td>\n      <td>Nintendo</td>\n      <td>15.75</td>\n      <td>11.01</td>\n      <td>3.28</td>\n      <td>2.96</td>\n      <td>33.00</td>\n    </tr>\n    <tr>\n      <th>4</th>\n      <td>5</td>\n      <td>Pokemon Red/Pokemon Blue</td>\n      <td>GB</td>\n      <td>1996</td>\n      <td>Role-Playing</td>\n      <td>Nintendo</td>\n      <td>11.27</td>\n      <td>8.89</td>\n      <td>10.22</td>\n      <td>1.00</td>\n      <td>31.37</td>\n    </tr>\n  </tbody>\n</table>\n</div>"
          },
          "metadata": {}
        }
      ],
      "execution_count": 3,
      "metadata": {
        "collapsed": true,
        "jupyter": {
          "source_hidden": false,
          "outputs_hidden": false
        },
        "nteract": {
          "transient": {
            "deleting": false
          }
        },
        "gather": {
          "logged": 1612177988590
        }
      }
    },
    {
      "cell_type": "markdown",
      "source": [
        "### Describe dataset."
      ],
      "metadata": {
        "nteract": {
          "transient": {
            "deleting": false
          }
        }
      }
    },
    {
      "cell_type": "code",
      "source": [
        "# Use Pandas DataFrame just to investigate the dataset's schema and info\n",
        "full_df.describe()"
      ],
      "outputs": [
        {
          "output_type": "execute_result",
          "execution_count": 4,
          "data": {
            "text/plain": "               Rank      NA_Sales      EU_Sales      JP_Sales   Other_Sales  \\\ncount  16598.000000  16598.000000  16598.000000  16598.000000  16598.000000   \nmean    8300.605254      0.264667      0.146652      0.077782      0.048063   \nstd     4791.853933      0.816683      0.505351      0.309291      0.188588   \nmin        1.000000      0.000000      0.000000      0.000000      0.000000   \n25%     4151.250000      0.000000      0.000000      0.000000      0.000000   \n50%     8300.500000      0.080000      0.020000      0.000000      0.010000   \n75%    12449.750000      0.240000      0.110000      0.040000      0.040000   \nmax    16600.000000     41.490000     29.020000     10.220000     10.570000   \n\n       Global_Sales  \ncount  16598.000000  \nmean       0.537441  \nstd        1.555028  \nmin        0.010000  \n25%        0.060000  \n50%        0.170000  \n75%        0.470000  \nmax       82.740000  ",
            "text/html": "<div>\n<style scoped>\n    .dataframe tbody tr th:only-of-type {\n        vertical-align: middle;\n    }\n\n    .dataframe tbody tr th {\n        vertical-align: top;\n    }\n\n    .dataframe thead th {\n        text-align: right;\n    }\n</style>\n<table border=\"1\" class=\"dataframe\">\n  <thead>\n    <tr style=\"text-align: right;\">\n      <th></th>\n      <th>Rank</th>\n      <th>NA_Sales</th>\n      <th>EU_Sales</th>\n      <th>JP_Sales</th>\n      <th>Other_Sales</th>\n      <th>Global_Sales</th>\n    </tr>\n  </thead>\n  <tbody>\n    <tr>\n      <th>count</th>\n      <td>16598.000000</td>\n      <td>16598.000000</td>\n      <td>16598.000000</td>\n      <td>16598.000000</td>\n      <td>16598.000000</td>\n      <td>16598.000000</td>\n    </tr>\n    <tr>\n      <th>mean</th>\n      <td>8300.605254</td>\n      <td>0.264667</td>\n      <td>0.146652</td>\n      <td>0.077782</td>\n      <td>0.048063</td>\n      <td>0.537441</td>\n    </tr>\n    <tr>\n      <th>std</th>\n      <td>4791.853933</td>\n      <td>0.816683</td>\n      <td>0.505351</td>\n      <td>0.309291</td>\n      <td>0.188588</td>\n      <td>1.555028</td>\n    </tr>\n    <tr>\n      <th>min</th>\n      <td>1.000000</td>\n      <td>0.000000</td>\n      <td>0.000000</td>\n      <td>0.000000</td>\n      <td>0.000000</td>\n      <td>0.010000</td>\n    </tr>\n    <tr>\n      <th>25%</th>\n      <td>4151.250000</td>\n      <td>0.000000</td>\n      <td>0.000000</td>\n      <td>0.000000</td>\n      <td>0.000000</td>\n      <td>0.060000</td>\n    </tr>\n    <tr>\n      <th>50%</th>\n      <td>8300.500000</td>\n      <td>0.080000</td>\n      <td>0.020000</td>\n      <td>0.000000</td>\n      <td>0.010000</td>\n      <td>0.170000</td>\n    </tr>\n    <tr>\n      <th>75%</th>\n      <td>12449.750000</td>\n      <td>0.240000</td>\n      <td>0.110000</td>\n      <td>0.040000</td>\n      <td>0.040000</td>\n      <td>0.470000</td>\n    </tr>\n    <tr>\n      <th>max</th>\n      <td>16600.000000</td>\n      <td>41.490000</td>\n      <td>29.020000</td>\n      <td>10.220000</td>\n      <td>10.570000</td>\n      <td>82.740000</td>\n    </tr>\n  </tbody>\n</table>\n</div>"
          },
          "metadata": {}
        }
      ],
      "execution_count": 4,
      "metadata": {
        "collapsed": true,
        "jupyter": {
          "source_hidden": false,
          "outputs_hidden": false
        },
        "nteract": {
          "transient": {
            "deleting": false
          }
        },
        "gather": {
          "logged": 1612177988672
        }
      }
    },
    {
      "cell_type": "markdown",
      "source": [
        "### Filter dataset for improved prediction.\n",
        "\n",
        "It is essential for solving regression problems to remove excessive data.  \n",
        "It eases learning process and improve accuracy.\n",
        "\n",
        "Dropping Genre type as we are predicting total sells."
      ],
      "metadata": {
        "nteract": {
          "transient": {
            "deleting": false
          }
        }
      }
    },
    {
      "cell_type": "code",
      "source": [
        "# Dropping Genre type as we are predicting total sells.\n",
        "  \n",
        "aml_dataset = aml_dataset.drop_columns([\n",
        "    'Genre','genre'])\n",
        "\n",
        "full_df = aml_dataset.to_pandas_dataframe()\n",
        "full_df.describe()"
      ],
      "outputs": [
        {
          "output_type": "execute_result",
          "execution_count": 5,
          "data": {
            "text/plain": "               Rank      NA_Sales      EU_Sales      JP_Sales   Other_Sales  \\\ncount  16598.000000  16598.000000  16598.000000  16598.000000  16598.000000   \nmean    8300.605254      0.264667      0.146652      0.077782      0.048063   \nstd     4791.853933      0.816683      0.505351      0.309291      0.188588   \nmin        1.000000      0.000000      0.000000      0.000000      0.000000   \n25%     4151.250000      0.000000      0.000000      0.000000      0.000000   \n50%     8300.500000      0.080000      0.020000      0.000000      0.010000   \n75%    12449.750000      0.240000      0.110000      0.040000      0.040000   \nmax    16600.000000     41.490000     29.020000     10.220000     10.570000   \n\n       Global_Sales  \ncount  16598.000000  \nmean       0.537441  \nstd        1.555028  \nmin        0.010000  \n25%        0.060000  \n50%        0.170000  \n75%        0.470000  \nmax       82.740000  ",
            "text/html": "<div>\n<style scoped>\n    .dataframe tbody tr th:only-of-type {\n        vertical-align: middle;\n    }\n\n    .dataframe tbody tr th {\n        vertical-align: top;\n    }\n\n    .dataframe thead th {\n        text-align: right;\n    }\n</style>\n<table border=\"1\" class=\"dataframe\">\n  <thead>\n    <tr style=\"text-align: right;\">\n      <th></th>\n      <th>Rank</th>\n      <th>NA_Sales</th>\n      <th>EU_Sales</th>\n      <th>JP_Sales</th>\n      <th>Other_Sales</th>\n      <th>Global_Sales</th>\n    </tr>\n  </thead>\n  <tbody>\n    <tr>\n      <th>count</th>\n      <td>16598.000000</td>\n      <td>16598.000000</td>\n      <td>16598.000000</td>\n      <td>16598.000000</td>\n      <td>16598.000000</td>\n      <td>16598.000000</td>\n    </tr>\n    <tr>\n      <th>mean</th>\n      <td>8300.605254</td>\n      <td>0.264667</td>\n      <td>0.146652</td>\n      <td>0.077782</td>\n      <td>0.048063</td>\n      <td>0.537441</td>\n    </tr>\n    <tr>\n      <th>std</th>\n      <td>4791.853933</td>\n      <td>0.816683</td>\n      <td>0.505351</td>\n      <td>0.309291</td>\n      <td>0.188588</td>\n      <td>1.555028</td>\n    </tr>\n    <tr>\n      <th>min</th>\n      <td>1.000000</td>\n      <td>0.000000</td>\n      <td>0.000000</td>\n      <td>0.000000</td>\n      <td>0.000000</td>\n      <td>0.010000</td>\n    </tr>\n    <tr>\n      <th>25%</th>\n      <td>4151.250000</td>\n      <td>0.000000</td>\n      <td>0.000000</td>\n      <td>0.000000</td>\n      <td>0.000000</td>\n      <td>0.060000</td>\n    </tr>\n    <tr>\n      <th>50%</th>\n      <td>8300.500000</td>\n      <td>0.080000</td>\n      <td>0.020000</td>\n      <td>0.000000</td>\n      <td>0.010000</td>\n      <td>0.170000</td>\n    </tr>\n    <tr>\n      <th>75%</th>\n      <td>12449.750000</td>\n      <td>0.240000</td>\n      <td>0.110000</td>\n      <td>0.040000</td>\n      <td>0.040000</td>\n      <td>0.470000</td>\n    </tr>\n    <tr>\n      <th>max</th>\n      <td>16600.000000</td>\n      <td>41.490000</td>\n      <td>29.020000</td>\n      <td>10.220000</td>\n      <td>10.570000</td>\n      <td>82.740000</td>\n    </tr>\n  </tbody>\n</table>\n</div>"
          },
          "metadata": {}
        }
      ],
      "execution_count": 5,
      "metadata": {
        "collapsed": true,
        "jupyter": {
          "source_hidden": false,
          "outputs_hidden": false
        },
        "nteract": {
          "transient": {
            "deleting": false
          }
        },
        "gather": {
          "logged": 1612177989115
        }
      }
    },
    {
      "cell_type": "markdown",
      "source": [
        "### Split data into learn and test datasets"
      ],
      "metadata": {
        "nteract": {
          "transient": {
            "deleting": false
          }
        }
      }
    },
    {
      "cell_type": "code",
      "source": [
        "# Split using Azure Tabular Datasets (Better for Remote Compute)\n",
        "\n",
        "train_dataset, test_dataset = aml_dataset.random_split(0.9, seed=1)\n",
        "\n",
        "# Use Pandas DF only to check the data\n",
        "train_dataset_df = train_dataset.to_pandas_dataframe()\n",
        "test_dataset_df = test_dataset.to_pandas_dataframe()\n",
        "\n",
        "print(train_dataset_df.describe())\n",
        "# print(test_dataset_df.describe())"
      ],
      "outputs": [
        {
          "output_type": "stream",
          "name": "stdout",
          "text": [
            "               Rank      NA_Sales      EU_Sales      JP_Sales   Other_Sales  \\\n",
            "count  15031.000000  15031.000000  15031.000000  15031.000000  15031.000000   \n",
            "mean    8308.894219      0.264796      0.146325      0.078474      0.048367   \n",
            "std     4786.003478      0.836679      0.515704      0.313870      0.194533   \n",
            "min        1.000000      0.000000      0.000000      0.000000      0.000000   \n",
            "25%     4158.000000      0.000000      0.000000      0.000000      0.000000   \n",
            "50%     8324.000000      0.080000      0.020000      0.000000      0.010000   \n",
            "75%    12445.500000      0.240000      0.110000      0.040000      0.030000   \n",
            "max    16600.000000     41.490000     29.020000     10.220000     10.570000   \n",
            "\n",
            "       Global_Sales  \n",
            "count  15031.000000  \n",
            "mean       0.538240  \n",
            "std        1.591495  \n",
            "min        0.010000  \n",
            "25%        0.060000  \n",
            "50%        0.170000  \n",
            "75%        0.470000  \n",
            "max       82.740000  \n"
          ]
        }
      ],
      "execution_count": 6,
      "metadata": {
        "collapsed": true,
        "jupyter": {
          "source_hidden": false,
          "outputs_hidden": false
        },
        "nteract": {
          "transient": {
            "deleting": false
          }
        },
        "gather": {
          "logged": 1612177991723
        }
      }
    },
    {
      "cell_type": "markdown",
      "source": [
        "#### (Optional) list your workspace in order to ease further configuration."
      ],
      "metadata": {
        "nteract": {
          "transient": {
            "deleting": false
          }
        }
      }
    },
    {
      "cell_type": "code",
      "source": [
        "from azureml.core.compute import AmlCompute\n",
        "from azureml.core.compute import ComputeTarget\n",
        "\n",
        "ComputeTarget.list(ws)"
      ],
      "outputs": [
        {
          "output_type": "execute_result",
          "execution_count": 7,
          "data": {
            "text/plain": "[{\n   \"id\": \"/subscriptions/5c191f39-6dbb-49fe-aabe-f85e875adb65/resourceGroups/covid-mlg/providers/Microsoft.MachineLearningServices/workspaces/covid-wsp/computes/covid-inst\",\n   \"name\": \"covid-inst\",\n   \"location\": \"westeurope\",\n   \"tags\": null,\n   \"properties\": {\n     \"description\": null,\n     \"computeType\": \"ComputeInstance\",\n     \"computeLocation\": \"westeurope\",\n     \"resourceId\": null,\n     \"provisioningErrors\": null,\n     \"provisioningState\": \"Succeeded\",\n     \"properties\": {\n       \"vmSize\": \"STANDARD_DS11_V2\",\n       \"applications\": [\n         {\n           \"displayName\": \"Jupyter\",\n           \"endpointUri\": \"https://covid-inst.westeurope.instances.azureml.ms\"\n         },\n         {\n           \"displayName\": \"Jupyter Lab\",\n           \"endpointUri\": \"https://covid-inst.westeurope.instances.azureml.ms/lab\"\n         },\n         {\n           \"displayName\": \"RStudio\",\n           \"endpointUri\": \"https://covid-inst-8787.westeurope.instances.azureml.ms\"\n         }\n       ],\n       \"connectivityEndpoints\": {\n         \"publicIpAddress\": \"52.157.232.76\",\n         \"privateIpAddress\": \"10.0.0.4\"\n       },\n       \"sshSettings\": {\n         \"sshPublicAccess\": \"Disabled\",\n         \"adminUserName\": \"azureuser\",\n         \"adminPublicKey\": null,\n         \"sshPort\": 4000\n       },\n       \"personalComputeInstanceSettings\": null,\n       \"subnet\": {\n         \"id\": null\n       },\n       \"errors\": []\n     },\n     \"status\": {\n       \"errors\": [],\n       \"creationTime\": \"2021-01-31T18:27:16.508130+00:00\",\n       \"createdBy\": {\n         \"userObjectId\": \"a4f390cf-d2bb-4050-bf9f-025d1c20c2fb\",\n         \"userTenantId\": \"3b50229c-cd78-4588-9bcf-97b7629e2f0f\",\n         \"userName\": \"Fr\\u0105czek Patryk (STUD)\"\n       },\n       \"modifiedTime\": \"2021-01-31T18:29:47.304870+00:00\",\n       \"state\": \"Running\",\n       \"vmSize\": \"STANDARD_DS11_V2\"\n     }\n   }\n },\n AmlCompute(workspace=Workspace.create(name='covid-wsp', subscription_id='5c191f39-6dbb-49fe-aabe-f85e875adb65', resource_group='covid-mlg'), name=covid-clst, id=/subscriptions/5c191f39-6dbb-49fe-aabe-f85e875adb65/resourceGroups/covid-mlg/providers/Microsoft.MachineLearningServices/workspaces/covid-wsp/computes/covid-clst, type=AmlCompute, provisioning_state=Succeeded, location=westeurope, tags=None)]"
          },
          "metadata": {}
        }
      ],
      "execution_count": 7,
      "metadata": {
        "collapsed": true,
        "jupyter": {
          "source_hidden": false,
          "outputs_hidden": false
        },
        "nteract": {
          "transient": {
            "deleting": false
          }
        },
        "gather": {
          "logged": 1612177992110
        }
      }
    },
    {
      "cell_type": "markdown",
      "source": [
        "### Connect to remote AML compute instance.\n",
        "Ensure your enginners created compute cluster formerly.  \n",
        "If not set up CREATE_CLUSTER_IF_NOT_FOUND if you want to create compute claster by script.  \n",
        "If so, then set up proper NEW_CLUSTER_VM name."
      ],
      "metadata": {
        "nteract": {
          "transient": {
            "deleting": false
          }
        }
      }
    },
    {
      "cell_type": "code",
      "source": [
        "# Choose a name for your cluster.\n",
        "amlcompute_cluster_name = \"covid-clst\"\n",
        "\n",
        "CREATE_CLUSTER_IF_NOT_FOUND = False\n",
        "NEW_CLUSTER_VM = 'vm'\n",
        "found = False\n",
        "# Check if this compute target already exists in the workspace.\n",
        "cts = ws.compute_targets\n",
        "\n",
        "if amlcompute_cluster_name in cts and cts[amlcompute_cluster_name].type == 'AmlCompute':\n",
        "     found = True\n",
        "     print('Found existing training cluster.')\n",
        "     # Get existing cluster\n",
        "     # Method 1:\n",
        "     aml_remote_compute = cts[amlcompute_cluster_name]\n",
        "     # Method 2:\n",
        "     # aml_remote_compute = ComputeTarget(ws, amlcompute_cluster_name)\n",
        "    \n",
        "if (not found) & CREATE_CLUSTER_IF_NOT_FOUND:\n",
        "     print('Creating a new training cluster...')\n",
        "     provisioning_config = AmlCompute.provisioning_configuration(vm_size = NEW_CLUSTER_VM,\n",
        "                                                                 max_nodes = 20)\n",
        "     # Create the cluster.\n",
        "     aml_remote_compute = ComputeTarget.create(ws, amlcompute_cluster_name, provisioning_config)\n",
        "    \n",
        "print('Checking cluster status...')\n",
        "aml_remote_compute.wait_for_completion(show_output = True, min_node_count = 0, timeout_in_minutes = 20)"
      ],
      "outputs": [
        {
          "output_type": "stream",
          "name": "stdout",
          "text": [
            "Found existing training cluster.\n",
            "Checking cluster status...\n",
            "Succeeded\n",
            "AmlCompute wait for completion finished\n",
            "\n",
            "Minimum number of nodes requested have been provisioned\n"
          ]
        }
      ],
      "execution_count": 8,
      "metadata": {
        "collapsed": true,
        "jupyter": {
          "source_hidden": false,
          "outputs_hidden": false
        },
        "nteract": {
          "transient": {
            "deleting": false
          }
        },
        "gather": {
          "logged": 1612177992310
        }
      }
    },
    {
      "cell_type": "code",
      "source": [
        "# For additional details of current AmlCompute status:\n",
        "aml_remote_compute.get_status().serialize()"
      ],
      "outputs": [
        {
          "output_type": "execute_result",
          "execution_count": 9,
          "data": {
            "text/plain": "{'currentNodeCount': 0,\n 'targetNodeCount': 1,\n 'nodeStateCounts': {'preparingNodeCount': 0,\n  'runningNodeCount': 0,\n  'idleNodeCount': 0,\n  'unusableNodeCount': 0,\n  'leavingNodeCount': 0,\n  'preemptedNodeCount': 0},\n 'allocationState': 'Resizing',\n 'allocationStateTransitionTime': '2021-02-01T11:11:56.796000+00:00',\n 'errors': None,\n 'creationTime': '2021-01-31T18:27:55.335234+00:00',\n 'modifiedTime': '2021-01-31T18:28:10.732323+00:00',\n 'provisioningState': 'Succeeded',\n 'provisioningStateTransitionTime': None,\n 'scaleSettings': {'minNodeCount': 0,\n  'maxNodeCount': 2,\n  'nodeIdleTimeBeforeScaleDown': 'PT120S'},\n 'vmPriority': 'Dedicated',\n 'vmSize': 'STANDARD_DS11_V2'}"
          },
          "metadata": {}
        }
      ],
      "execution_count": 9,
      "metadata": {
        "collapsed": true,
        "jupyter": {
          "source_hidden": false,
          "outputs_hidden": false
        },
        "nteract": {
          "transient": {
            "deleting": false
          }
        },
        "gather": {
          "logged": 1612177992590
        }
      }
    },
    {
      "cell_type": "markdown",
      "source": [
        "#### (Optional) List and select primary metric to drive the AutoML classification problem."
      ],
      "metadata": {
        "nteract": {
          "transient": {
            "deleting": false
          }
        }
      }
    },
    {
      "cell_type": "code",
      "source": [
        "from azureml.train import automl\n",
        "\n",
        "# Get a list of valid metrics for your given task\n",
        "automl.utilities.get_primary_metrics('regression')\n",
        "\n",
        "# We'll use 'accuracy' as primary metric (Closer to 1.00 is better)"
      ],
      "outputs": [
        {
          "output_type": "execute_result",
          "execution_count": 10,
          "data": {
            "text/plain": "['normalized_root_mean_squared_error',\n 'normalized_mean_absolute_error',\n 'r2_score',\n 'spearman_correlation']"
          },
          "metadata": {}
        }
      ],
      "execution_count": 10,
      "metadata": {
        "collapsed": true,
        "jupyter": {
          "source_hidden": false,
          "outputs_hidden": false
        },
        "nteract": {
          "transient": {
            "deleting": false
          }
        },
        "gather": {
          "logged": 1612177992823
        }
      }
    },
    {
      "cell_type": "markdown",
      "source": [
        "### Define AutoML Experiment settings (With AML Remote Compute)\n",
        "\n",
        "LightGBM has the best score for given data, so limit evaluated models to the best one. (`whitelist_models`)  \n",
        "Use `normalized_root_mean_squared_error` as primary_metric."
      ],
      "metadata": {
        "nteract": {
          "transient": {
            "deleting": false
          }
        }
      }
    },
    {
      "cell_type": "code",
      "source": [
        "import logging\n",
        "import os\n",
        "\n",
        "from azureml.train.automl import AutoMLConfig\n",
        "\n",
        "project_folder = './vgs-resources'\n",
        "os.makedirs(project_folder, exist_ok=True)\n",
        "\n",
        "automl_config = AutoMLConfig(compute_target=aml_remote_compute,\n",
        "                             task='regression',\n",
        "                             primary_metric='normalized_root_mean_squared_error',\n",
        "                             experiment_timeout_minutes=45,                            \n",
        "                             training_data=train_dataset,\n",
        "                             label_column_name=\"EU_Sales\",\n",
        "                             n_cross_validations=5,\n",
        "                             enable_early_stopping=True,\n",
        "                             featurization='auto',\n",
        "                             debug_log='automated_ml_errors.log',\n",
        "                             verbosity=logging.INFO,\n",
        "                             path=project_folder,\n",
        "                             whitelist_models=['LightGBM']\n",
        "                             )"
      ],
      "outputs": [
        {
          "output_type": "stream",
          "name": "stderr",
          "text": [
            "WARNING:root:Parameter 'whitelist_models' will be deprecated. Use 'allowed_models'\n"
          ]
        }
      ],
      "execution_count": 11,
      "metadata": {
        "collapsed": true,
        "jupyter": {
          "source_hidden": false,
          "outputs_hidden": false
        },
        "nteract": {
          "transient": {
            "deleting": false
          }
        },
        "gather": {
          "logged": 1612177992894
        }
      }
    },
    {
      "cell_type": "markdown",
      "source": [
        "#### Run Experiment"
      ],
      "metadata": {
        "nteract": {
          "transient": {
            "deleting": false
          }
        }
      }
    },
    {
      "cell_type": "code",
      "source": [
        "\n",
        "from azureml.core import Experiment\n",
        "from datetime import datetime\n",
        "\n",
        "now = datetime.now()\n",
        "time_string = now.strftime(\"%m-%d-%Y-%H\")\n",
        "experiment_name = \"predict-vg-sales-{0}\".format(time_string)\n",
        "print(experiment_name)\n",
        "\n",
        "experiment = Experiment(workspace=ws, name=experiment_name)\n",
        "\n",
        "import time\n",
        "start_time = time.time()\n",
        "            \n",
        "run = experiment.submit(automl_config, show_output=True)\n",
        "\n",
        "print('Manual run timing: --- %s seconds needed for running the whole Remote AutoML Experiment ---' % (time.time() - start_time))"
      ],
      "outputs": [
        {
          "output_type": "stream",
          "name": "stdout",
          "text": [
            "predict-vg-sales-02-01-2021-11\n",
            "Running on remote.\n",
            "No run_configuration provided, running on covid-clst with default configuration\n",
            "Running on remote compute: covid-clst\n",
            "Parent Run ID: AutoML_25789e53-94e9-4788-87b6-a243eee64de0\n",
            "\n"
          ]
        }
      ],
      "execution_count": 12,
      "metadata": {
        "collapsed": true,
        "jupyter": {
          "source_hidden": false,
          "outputs_hidden": false
        },
        "nteract": {
          "transient": {
            "deleting": false
          }
        },
        "gather": {
          "logged": 1612128146465
        }
      }
    },
    {
      "cell_type": "markdown",
      "source": [
        "### (Optional) Attempt to handle widgets SyntaxError.\n",
        "For some reason `SyntaxError: Unexpected token N in JSON at position 33259` occurs in RunDeetails class.  \n",
        "If you are getting this error and pip install does not help you can continue to next steps.  "
      ],
      "metadata": {
        "nteract": {
          "transient": {
            "deleting": false
          }
        }
      }
    },
    {
      "cell_type": "code",
      "source": [
        "pip install azureml-widgets"
      ],
      "outputs": [],
      "execution_count": null,
      "metadata": {
        "collapsed": true,
        "jupyter": {
          "source_hidden": false,
          "outputs_hidden": false
        },
        "nteract": {
          "transient": {
            "deleting": false
          }
        },
        "gather": {
          "logged": 1612135148689
        }
      }
    },
    {
      "cell_type": "code",
      "source": [
        "from azureml.widgets import RunDetails\n",
        "RunDetails(run).show()"
      ],
      "outputs": [],
      "execution_count": null,
      "metadata": {
        "collapsed": true,
        "jupyter": {
          "source_hidden": false,
          "outputs_hidden": false
        },
        "nteract": {
          "transient": {
            "deleting": false
          }
        },
        "gather": {
          "logged": 1612135176756
        }
      }
    },
    {
      "cell_type": "markdown",
      "source": [
        "### Measure Parent Run Time needed for the whole AutoML process"
      ],
      "metadata": {
        "nteract": {
          "transient": {
            "deleting": false
          }
        }
      }
    },
    {
      "cell_type": "code",
      "source": [
        "import time\n",
        "import datetime as dt\n",
        "\n",
        "run_details = run.get_details()\n",
        "\n",
        "# Like: 2020-01-12T23:11:56.292703Z\n",
        "end_time_utc_str = run_details['endTimeUtc'].split(\".\")[0]\n",
        "start_time_utc_str = run_details['startTimeUtc'].split(\".\")[0]\n",
        "timestamp_end = time.mktime(datetime.strptime(end_time_utc_str, \"%Y-%m-%dT%H:%M:%S\").timetuple())\n",
        "timestamp_start = time.mktime(datetime.strptime(start_time_utc_str, \"%Y-%m-%dT%H:%M:%S\").timetuple())\n",
        "\n",
        "parent_run_time = timestamp_end - timestamp_start\n",
        "print('Run Timing: --- %s seconds needed for running the whole Remote AutoML Experiment ---' % (parent_run_time))\n",
        "print(run_details)"
      ],
      "outputs": [],
      "execution_count": null,
      "metadata": {
        "collapsed": true,
        "jupyter": {
          "source_hidden": false,
          "outputs_hidden": false
        },
        "nteract": {
          "transient": {
            "deleting": false
          }
        },
        "gather": {
          "logged": 1612135214458
        }
      }
    },
    {
      "cell_type": "markdown",
      "source": [
        "### Retrieve the 'Best Model' (LightGBM model)"
      ],
      "metadata": {
        "nteract": {
          "transient": {
            "deleting": false
          }
        }
      }
    },
    {
      "cell_type": "code",
      "source": [
        "best_run, fitted_model = run.get_output()\n",
        "print(best_run)\n",
        "print(fitted_model)"
      ],
      "outputs": [],
      "execution_count": null,
      "metadata": {
        "collapsed": true,
        "jupyter": {
          "source_hidden": false,
          "outputs_hidden": false
        },
        "nteract": {
          "transient": {
            "deleting": false
          }
        },
        "gather": {
          "logged": 1612136298728
        }
      }
    },
    {
      "cell_type": "markdown",
      "source": [
        "### Extract X values (feature columns)"
      ],
      "metadata": {
        "nteract": {
          "transient": {
            "deleting": false
          }
        }
      }
    },
    {
      "cell_type": "code",
      "source": [
        "x_test_df = test_dataset_df\n",
        "y_test_df = test_dataset_df"
      ],
      "outputs": [],
      "execution_count": null,
      "metadata": {
        "collapsed": true,
        "jupyter": {
          "source_hidden": false,
          "outputs_hidden": false
        },
        "nteract": {
          "transient": {
            "deleting": false
          }
        }
      }
    },
    {
      "cell_type": "markdown",
      "source": [
        "### Make the actual Predictions"
      ],
      "metadata": {
        "nteract": {
          "transient": {
            "deleting": false
          }
        }
      }
    },
    {
      "cell_type": "code",
      "source": [
        "\n",
        "# Try the best model\n",
        "y_predictions = fitted_model.predict(x_test_df)\n",
        "\n",
        "print('10 predictions: ')\n",
        "print(y_predictions[:10])\n",
        "y_predictions.shape"
      ],
      "outputs": [],
      "execution_count": null,
      "metadata": {
        "collapsed": true,
        "jupyter": {
          "source_hidden": false,
          "outputs_hidden": false
        },
        "nteract": {
          "transient": {
            "deleting": false
          }
        }
      }
    },
    {
      "cell_type": "markdown",
      "source": [
        "#### Calculate the Accuracy with Test Dataset"
      ],
      "metadata": {
        "nteract": {
          "transient": {
            "deleting": false
          }
        }
      }
    },
    {
      "cell_type": "code",
      "source": [
        "from sklearn.metrics import accuracy_score\n",
        "\n",
        "print('Accuracy:')\n",
        "accuracy_score(y_test_df, y_predictions)"
      ],
      "outputs": [],
      "execution_count": null,
      "metadata": {
        "collapsed": true,
        "jupyter": {
          "source_hidden": false,
          "outputs_hidden": false
        },
        "nteract": {
          "transient": {
            "deleting": false
          }
        }
      }
    }
  ],
  "metadata": {
    "kernelspec": {
      "name": "python3-azureml",
      "language": "python",
      "display_name": "Python 3.6 - AzureML"
    },
    "language_info": {
      "name": "python",
      "version": "3.6.9",
      "mimetype": "text/x-python",
      "codemirror_mode": {
        "name": "ipython",
        "version": 3
      },
      "pygments_lexer": "ipython3",
      "nbconvert_exporter": "python",
      "file_extension": ".py"
    },
    "kernel_info": {
      "name": "python3-azureml"
    },
    "nteract": {
      "version": "nteract-front-end@1.0.0"
    }
  },
  "nbformat": 4,
  "nbformat_minor": 2
}